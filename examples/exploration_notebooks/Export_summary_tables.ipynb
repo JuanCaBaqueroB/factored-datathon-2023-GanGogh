{
 "cells": [
  {
   "cell_type": "markdown",
   "metadata": {},
   "source": [
    "Create preprocessed tables for visualization"
   ]
  },
  {
   "cell_type": "markdown",
   "metadata": {},
   "source": [
    "Table reviews_x_product"
   ]
  },
  {
   "cell_type": "code",
   "execution_count": 3,
   "metadata": {},
   "outputs": [],
   "source": [
    "%sql\n",
    "CREATE TABLE OR REPLACE reviews_x_product\n",
    "    COMMENT 'View for reviews with product information'\n",
    "    AS select A.*,\n",
    "    B.alsobuy_0,\n",
    "    B.alsoview_1,\n",
    "    B.asin_2,\n",
    "    B.brand_3,\n",
    "    B.category_4,\n",
    "    B.date_5,\n",
    "    B.description_6,\n",
    "    B.feature_7,\n",
    "    B.fit_8,\n",
    "    B.image_9,\n",
    "    B.maincat_10,\n",
    "    B.price_11,\n",
    "    B.rank_12,\n",
    "    B.similaritem_13,\n",
    "    B.tech1_14,\n",
    "    B.tech2_15,\n",
    "    B.title_16,\n",
    "    B.ItemWeight_17,\n",
    "    B.PackageDimensions_18,\n",
    "    B.ProductDimensions_19,\n",
    "    B.DatefirstlistedonAmazon_20,\n",
    "    B.UNSPSCCode_21\n",
    "    FROM reviews A\n",
    "    inner join products_metadata B\n",
    "    ON A.asin=B.asin_2;"
   ]
  },
  {
   "cell_type": "markdown",
   "metadata": {},
   "source": [
    "Table summary_score_reviews"
   ]
  },
  {
   "cell_type": "code",
   "execution_count": 5,
   "metadata": {},
   "outputs": [],
   "source": [
    "%sql\n",
    "CREATE OR REPLACE TABLE summary_score_reviews AS\n",
    "select to_date(from_unixtime(unixReviewTime, 'MM/yyyy'),\"MM/yyyy\") as date, maincat_10, verified, ROUND(avg(overall),2) as Average, min(overall) as Min_rate, max(overall) as Max_rate, ROUND(sum(overall)/(5*count(overall)),2) as efficiency_rate, count(overall) as Qty, ROUND(stddev(overall),2) as sDeviation\n",
    "FROM reviews_x_product\n",
    "group by date,maincat_10, verified\n",
    "order by date;"
   ]
  },
  {
   "cell_type": "code",
   "execution_count": 6,
   "metadata": {},
   "outputs": [
    {
     "output_type": "display_data",
     "data": {
      "text/html": [
       "<style scoped>\n",
       "  .table-result-container {\n",
       "    max-height: 300px;\n",
       "    overflow: auto;\n",
       "  }\n",
       "  table, th, td {\n",
       "    border: 1px solid black;\n",
       "    border-collapse: collapse;\n",
       "  }\n",
       "  th, td {\n",
       "    padding: 5px;\n",
       "  }\n",
       "  th {\n",
       "    text-align: left;\n",
       "  }\n",
       "</style><div class='table-result-container'><table class='table-result'><thead style='background-color: white'><tr></tr></thead><tbody></tbody></table></div>"
      ]
     },
     "metadata": {},
     "output_type": "display_data"
    }
   ],
   "source": [
    "%sql \n",
    "DROP VIEW reviews_x_product"
   ]
  },
  {
   "cell_type": "code",
   "execution_count": 7,
   "metadata": {},
   "outputs": [],
   "source": [
    "from azure.storage.blob import BlobServiceClient, BlobClient, ContainerClient\n",
    "import pandas as pd\n",
    "\n",
    "# Azure Blob Storage credentials\n",
    "storage_connection_string = \"DefaultEndpointsProtocol=https;AccountName=test1fast;AccountKey=QnSkjChqVUQWCLs9t+yDSK4w02oQVBjWtP9dOOBhpw1O002GrWnk8LHfsU8Ys16QjNKmjnDw2RbM+AStEQNjww==;EndpointSuffix=core.windows.net\"\n",
    "container_name = \"visualization-tables\"\n",
    "\n",
    "# Connect to Azure Blob Storage\n",
    "blob_service_client = BlobServiceClient.from_connection_string(storage_connection_string)\n",
    "container_client = blob_service_client.get_container_client(container_name)\n",
    "blob_client = container_client.get_blob_client(csv_filename)"
   ]
  },
  {
   "cell_type": "code",
   "execution_count": 8,
   "metadata": {},
   "outputs": [
    {
     "output_type": "display_data",
     "data": {
      "text/html": [
       "<div>\n",
       "<style scoped>\n",
       "    .dataframe tbody tr th:only-of-type {\n",
       "        vertical-align: middle;\n",
       "    }\n",
       "\n",
       "    .dataframe tbody tr th {\n",
       "        vertical-align: top;\n",
       "    }\n",
       "\n",
       "    .dataframe thead th {\n",
       "        text-align: right;\n",
       "    }\n",
       "</style>\n",
       "<table border=\"1\" class=\"dataframe\">\n",
       "  <thead>\n",
       "    <tr style=\"text-align: right;\">\n",
       "      <th></th>\n",
       "      <th>AAPL_x</th>\n",
       "      <th>AAPL_y</th>\n",
       "    </tr>\n",
       "  </thead>\n",
       "  <tbody>\n",
       "    <tr>\n",
       "      <th>0</th>\n",
       "      <td>2014-01-02</td>\n",
       "      <td>77.445395</td>\n",
       "    </tr>\n",
       "    <tr>\n",
       "      <th>1</th>\n",
       "      <td>2014-01-03</td>\n",
       "      <td>77.045575</td>\n",
       "    </tr>\n",
       "    <tr>\n",
       "      <th>2</th>\n",
       "      <td>2014-01-06</td>\n",
       "      <td>74.896972</td>\n",
       "    </tr>\n",
       "    <tr>\n",
       "      <th>3</th>\n",
       "      <td>2014-01-07</td>\n",
       "      <td>75.856461</td>\n",
       "    </tr>\n",
       "    <tr>\n",
       "      <th>4</th>\n",
       "      <td>2014-01-08</td>\n",
       "      <td>75.091947</td>\n",
       "    </tr>\n",
       "    <tr>\n",
       "      <th>...</th>\n",
       "      <td>...</td>\n",
       "      <td>...</td>\n",
       "    </tr>\n",
       "    <tr>\n",
       "      <th>235</th>\n",
       "      <td>2014-12-08</td>\n",
       "      <td>113.653345</td>\n",
       "    </tr>\n",
       "    <tr>\n",
       "      <th>236</th>\n",
       "      <td>2014-12-09</td>\n",
       "      <td>109.755497</td>\n",
       "    </tr>\n",
       "    <tr>\n",
       "      <th>237</th>\n",
       "      <td>2014-12-10</td>\n",
       "      <td>113.960331</td>\n",
       "    </tr>\n",
       "    <tr>\n",
       "      <th>238</th>\n",
       "      <td>2014-12-11</td>\n",
       "      <td>111.817477</td>\n",
       "    </tr>\n",
       "    <tr>\n",
       "      <th>239</th>\n",
       "      <td>2014-12-12</td>\n",
       "      <td>110.027139</td>\n",
       "    </tr>\n",
       "  </tbody>\n",
       "</table>\n",
       "<p>240 rows × 2 columns</p>\n",
       "</div>"
      ],
      "text/plain": [
       "         AAPL_x      AAPL_y\n",
       "0    2014-01-02   77.445395\n",
       "1    2014-01-03   77.045575\n",
       "2    2014-01-06   74.896972\n",
       "3    2014-01-07   75.856461\n",
       "4    2014-01-08   75.091947\n",
       "..          ...         ...\n",
       "235  2014-12-08  113.653345\n",
       "236  2014-12-09  109.755497\n",
       "237  2014-12-10  113.960331\n",
       "238  2014-12-11  111.817477\n",
       "239  2014-12-12  110.027139\n",
       "\n",
       "[240 rows x 2 columns]"
      ]
     },
     "metadata": {},
     "output_type": "display_data"
    }
   ],
   "source": [
    "df = pd.read_csv(csv_filename)\n",
    "df"
   ]
  },
  {
   "cell_type": "code",
   "execution_count": 9,
   "metadata": {},
   "outputs": [],
   "source": [
    "#Save csv on Azure Blob Storage\n",
    "with open(\"stockPrice.csv\", mode=\"rb\") as data:\n",
    "    blob_client = container_client.upload_blob(name=\"stockPrice.csv\", data=data, overwrite=True)"
   ]
  }
 ],
 "metadata": {
  "name": "Export_tables"
 },
 "nbformat": 4,
 "nbformat_minor": 0
}